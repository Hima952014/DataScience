{
 "cells": [
  {
   "cell_type": "code",
   "execution_count": 2,
   "id": "b21fd704",
   "metadata": {},
   "outputs": [
    {
     "name": "stdout",
     "output_type": "stream",
     "text": [
      "bindu\n"
     ]
    }
   ],
   "source": [
    "print ('bindu')"
   ]
  },
  {
   "cell_type": "code",
   "execution_count": 3,
   "id": "a0301f85",
   "metadata": {},
   "outputs": [
    {
     "name": "stdout",
     "output_type": "stream",
     "text": [
      "Rudra\n"
     ]
    }
   ],
   "source": [
    "print ('Rudra')"
   ]
  },
  {
   "cell_type": "code",
   "execution_count": null,
   "id": "85df78af",
   "metadata": {},
   "outputs": [],
   "source": []
  }
 ],
 "metadata": {
  "kernelspec": {
   "display_name": "Python 3 (ipykernel)",
   "language": "python",
   "name": "python3"
  },
  "language_info": {
   "codemirror_mode": {
    "name": "ipython",
    "version": 3
   },
   "file_extension": ".py",
   "mimetype": "text/x-python",
   "name": "python",
   "nbconvert_exporter": "python",
   "pygments_lexer": "ipython3",
   "version": "3.11.5"
  }
 },
 "nbformat": 4,
 "nbformat_minor": 5
}
